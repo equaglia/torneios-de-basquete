{
  "nbformat": 4,
  "nbformat_minor": 0,
  "metadata": {
    "colab": {
      "name": "classeDisputa.ipynb",
      "provenance": [],
      "collapsed_sections": [],
      "toc_visible": true,
      "authorship_tag": "ABX9TyNjNNoVkPXKsRONm76MNC6V",
      "include_colab_link": true
    },
    "kernelspec": {
      "name": "python3",
      "display_name": "Python 3"
    },
    "language_info": {
      "name": "python"
    }
  },
  "cells": [
    {
      "cell_type": "markdown",
      "metadata": {
        "id": "view-in-github",
        "colab_type": "text"
      },
      "source": [
        "<a href=\"https://colab.research.google.com/github/equaglia/torneios-de-basquete/blob/main/classeDisputa.ipynb\" target=\"_parent\"><img src=\"https://colab.research.google.com/assets/colab-badge.svg\" alt=\"Open In Colab\"/></a>"
      ]
    },
    {
      "cell_type": "markdown",
      "metadata": {
        "id": "C6r8Jb-XuY08"
      },
      "source": [
        "# Dados"
      ]
    },
    {
      "cell_type": "code",
      "metadata": {
        "colab": {
          "base_uri": "https://localhost:8080/",
          "height": 0
        },
        "id": "xzY4c97Tzzeo",
        "outputId": "403be5aa-bda0-41ec-8f87-4f308b30dc1c"
      },
      "source": [
        "import numpy as np\n",
        "\n",
        "a = np.array([[\"jog_01\",\"jog_09\",\"jog_10\",\"jog_11\"],\n",
        "              [\"jog_12\",\"jog_02\",\"jog_13\",\"jog_14\"],\n",
        "              [\"jog_15\",\"jog_16\",\"jog_03\",\"jog_17\"],\n",
        "              [\"jog_18\",\"jog_19\",\"jog_20\",\"jog_04\"]]) \n",
        "b = np.array([[\"jog_05\",\"jog_21\",\"jog_22\",\"jog_23\"],\n",
        "              [\"jog_24\",\"jog_06\",\"jog_25\",\"jog_26\"],\n",
        "              [\"jog_27\",\"jog_28\",\"jog_07\",\"jog_29\"],\n",
        "              [\"jog_30\",\"jog_31\",\"jog_32\",\"jog_08\"]])\n",
        "\n",
        "# a = np.array([[1,9,10,11],[12,2,13,14],[15,16,3,17],[18,19,20,4]]) \n",
        "# b = np.array([[5,21,22,23],[24,6,25,26],[27,28,7,29],[30,31,32,8]])\n",
        "\n",
        "hor = np.array([[\"A\", \"B\", \"C\", \"D\"],\n",
        "                [\"E\", \"F\", \"G\", \"H\"]])\n",
        "ver = np.array([[\"J\", \"K\", \"L\", \"M\"],\n",
        "                [\"N\", \"P\", \"Q\", \"R\"]])\n",
        "display(hor)\n",
        "display(ver)\n",
        "display(hor.size)\n",
        "a"
      ],
      "execution_count": 1,
      "outputs": [
        {
          "output_type": "display_data",
          "data": {
            "text/plain": [
              "array([['A', 'B', 'C', 'D'],\n",
              "       ['E', 'F', 'G', 'H']], dtype='<U1')"
            ]
          },
          "metadata": {}
        },
        {
          "output_type": "display_data",
          "data": {
            "text/plain": [
              "array([['J', 'K', 'L', 'M'],\n",
              "       ['N', 'P', 'Q', 'R']], dtype='<U1')"
            ]
          },
          "metadata": {}
        },
        {
          "output_type": "display_data",
          "data": {
            "text/plain": [
              "8"
            ]
          },
          "metadata": {}
        },
        {
          "output_type": "execute_result",
          "data": {
            "text/plain": [
              "array([['jog_01', 'jog_09', 'jog_10', 'jog_11'],\n",
              "       ['jog_12', 'jog_02', 'jog_13', 'jog_14'],\n",
              "       ['jog_15', 'jog_16', 'jog_03', 'jog_17'],\n",
              "       ['jog_18', 'jog_19', 'jog_20', 'jog_04']], dtype='<U6')"
            ]
          },
          "metadata": {},
          "execution_count": 1
        }
      ]
    },
    {
      "cell_type": "markdown",
      "metadata": {
        "id": "tJDsf0hfumQg"
      },
      "source": [
        "# Classes"
      ]
    },
    {
      "cell_type": "code",
      "metadata": {
        "id": "XrMYEdn7kD-p"
      },
      "source": [
        "class Disputa:\n",
        "  def __init__(self, grupo, jogadores):\n",
        "    self.grupo = grupo\n",
        "    self.jogadores = jogadores\n",
        "    self.partidas = []\n",
        "  \n",
        "  def __str__(self):\n",
        "    for i in self.partidas:\n",
        "      print(i)\n",
        "    return \"\"\n"
      ],
      "execution_count": 2,
      "outputs": []
    },
    {
      "cell_type": "code",
      "metadata": {
        "id": "QRfdzaNWt6-f"
      },
      "source": [
        "class Disputa2x2(Disputa):\n",
        "  def __init__(self, grupo, jogadores):\n",
        "    super().__init__(grupo, jogadores)\n",
        "    self.partidas = [\n",
        "                  Partida2x2(grupo, [jogadores[0],jogadores[1], jogadores[2], jogadores[3]]),\n",
        "                  Partida2x2(grupo, [jogadores[0],jogadores[2], jogadores[1], jogadores[3]]),\n",
        "                  Partida2x2(grupo, [jogadores[0],jogadores[3], jogadores[1], jogadores[2]])\n",
        "    ]\n"
      ],
      "execution_count": 3,
      "outputs": []
    },
    {
      "cell_type": "code",
      "metadata": {
        "id": "fdbuoahGbAbp"
      },
      "source": [
        "class Partida:\n",
        "  def __init__(self, grupo, jogadores):\n",
        "    self.grupo = grupo\n",
        "    self.jogadores = jogadores\n",
        "    self.pontos = [] \n",
        "    self.faltas = []\n"
      ],
      "execution_count": 4,
      "outputs": []
    },
    {
      "cell_type": "code",
      "metadata": {
        "id": "efku3Ezjmsv_"
      },
      "source": [
        "class Partida2x2(Partida):\n",
        "  def __init__(self, grupo, jogadores):\n",
        "    super().__init__(grupo, jogadores)\n",
        "    self.pontos = [0] * 4 \n",
        "    self.faltas = [0] * 4\n",
        "\n",
        "  def registraPlacar(self, placar1, placar2):\n",
        "    self.pontos[0] = self.pontos[1] = placar1\n",
        "    self.pontos[2] = self.pontos[3] = placar2\n",
        "\n",
        "  def registrarFalta(self, falta1, falta2):\n",
        "    self.faltas[0] = self.faltas[1] = falta1\n",
        "    self.faltas[2] = self.faltas[3] = falta2\n",
        "\n",
        "  def __str__(self):\n",
        "    return f'{self.grupo}: {self.jogadores[0]} & {self.jogadores[1]} X {self.jogadores[2]} & {self.jogadores[3]}'\n",
        "    #return f'[{self.grupo}: [{self.j1} & {self.j2}] X   [{self.j3} & {self.j4}]: {self.ptsJ1}, {self.ptsJ3}]'\n",
        "    #return f'{self.grupo}: {self.j1} & {self.j2} {self.ptsJ1} X {self.ptsJ3} {self.j3} & {self.j4}, faltas: {self.faltasJ1} X {self.faltasJ3}'\n",
        "\n",
        "  def printPlacar(self):\n",
        "    print(\"{}: {} & {} {} X {} {} & {}, faltas: {} X {}\".format(self.grupo, self.jogadores[0], self.jogadores[1], self.pontos[0], self.pontos[2], self.jogadores[2], self.jogadores[3], self.faltas[0], self.faltas[2]))\n"
      ],
      "execution_count": 5,
      "outputs": []
    },
    {
      "cell_type": "markdown",
      "metadata": {
        "id": "lO9xevNiuxYM"
      },
      "source": [
        "# Execução"
      ]
    },
    {
      "cell_type": "code",
      "metadata": {
        "colab": {
          "base_uri": "https://localhost:8080/"
        },
        "id": "x_CFbB9mzZyI",
        "outputId": "5c0a6ee3-077a-4595-a897-00d69c796e79"
      },
      "source": [
        "disputas = []\n",
        "for i in range(0, hor[0].size):\n",
        "  disps = Disputa2x2(hor[0][i], a[i])\n",
        "  disputas = disputas + disps.partidas\n",
        "  # print(disps)\n",
        "  disps = Disputa2x2(ver[0][i], a.transpose()[i])\n",
        "  disputas = disputas + disps.partidas\n",
        "  # print(disps)\n",
        "  disps = Disputa2x2(hor[1][i], b[i])\n",
        "  disputas = disputas + disps.partidas\n",
        "  # print(disps)\n",
        "  disps = Disputa2x2(ver[1][i], b.transpose()[i])\n",
        "  disputas = disputas + disps.partidas\n",
        "  # print(disps)\n",
        "\n",
        "import random\n",
        "\n",
        "for i in range(0, 5):\n",
        "  disp = disputas[random.randint(0, len(disputas))]\n",
        "  disp.registraPlacar(10+random.randint(-10, 10), 10+random.randint(-10, 10))\n",
        "  disp.registrarFalta(3+random.randint(-3, 3), 3+random.randint(-3, 3))\n",
        "  # print(disp)\n",
        "  disp.printPlacar()"
      ],
      "execution_count": 6,
      "outputs": [
        {
          "output_type": "stream",
          "name": "stdout",
          "text": [
            "R: jog_23 & jog_29 4 X 11 jog_26 & jog_08, faltas: 1 X 3\n",
            "F: jog_24 & jog_06 5 X 8 jog_25 & jog_26, faltas: 6 X 3\n",
            "D: jog_18 & jog_04 11 X 8 jog_19 & jog_20, faltas: 6 X 3\n",
            "F: jog_24 & jog_26 7 X 9 jog_06 & jog_25, faltas: 1 X 1\n",
            "B: jog_12 & jog_02 8 X 18 jog_13 & jog_14, faltas: 3 X 1\n"
          ]
        }
      ]
    },
    {
      "cell_type": "code",
      "metadata": {
        "colab": {
          "base_uri": "https://localhost:8080/"
        },
        "id": "d18fq_GqWWIj",
        "outputId": "4d24a4cc-8052-4c9c-edd6-5525af178d54"
      },
      "source": [
        " for i in disputas:\n",
        "   print(i)\n",
        " for i in disputas:\n",
        "   i.printPlacar()"
      ],
      "execution_count": 7,
      "outputs": [
        {
          "output_type": "stream",
          "name": "stdout",
          "text": [
            "A: jog_01 & jog_09 X jog_10 & jog_11\n",
            "A: jog_01 & jog_10 X jog_09 & jog_11\n",
            "A: jog_01 & jog_11 X jog_09 & jog_10\n",
            "J: jog_01 & jog_12 X jog_15 & jog_18\n",
            "J: jog_01 & jog_15 X jog_12 & jog_18\n",
            "J: jog_01 & jog_18 X jog_12 & jog_15\n",
            "E: jog_05 & jog_21 X jog_22 & jog_23\n",
            "E: jog_05 & jog_22 X jog_21 & jog_23\n",
            "E: jog_05 & jog_23 X jog_21 & jog_22\n",
            "N: jog_05 & jog_24 X jog_27 & jog_30\n",
            "N: jog_05 & jog_27 X jog_24 & jog_30\n",
            "N: jog_05 & jog_30 X jog_24 & jog_27\n",
            "B: jog_12 & jog_02 X jog_13 & jog_14\n",
            "B: jog_12 & jog_13 X jog_02 & jog_14\n",
            "B: jog_12 & jog_14 X jog_02 & jog_13\n",
            "K: jog_09 & jog_02 X jog_16 & jog_19\n",
            "K: jog_09 & jog_16 X jog_02 & jog_19\n",
            "K: jog_09 & jog_19 X jog_02 & jog_16\n",
            "F: jog_24 & jog_06 X jog_25 & jog_26\n",
            "F: jog_24 & jog_25 X jog_06 & jog_26\n",
            "F: jog_24 & jog_26 X jog_06 & jog_25\n",
            "P: jog_21 & jog_06 X jog_28 & jog_31\n",
            "P: jog_21 & jog_28 X jog_06 & jog_31\n",
            "P: jog_21 & jog_31 X jog_06 & jog_28\n",
            "C: jog_15 & jog_16 X jog_03 & jog_17\n",
            "C: jog_15 & jog_03 X jog_16 & jog_17\n",
            "C: jog_15 & jog_17 X jog_16 & jog_03\n",
            "L: jog_10 & jog_13 X jog_03 & jog_20\n",
            "L: jog_10 & jog_03 X jog_13 & jog_20\n",
            "L: jog_10 & jog_20 X jog_13 & jog_03\n",
            "G: jog_27 & jog_28 X jog_07 & jog_29\n",
            "G: jog_27 & jog_07 X jog_28 & jog_29\n",
            "G: jog_27 & jog_29 X jog_28 & jog_07\n",
            "Q: jog_22 & jog_25 X jog_07 & jog_32\n",
            "Q: jog_22 & jog_07 X jog_25 & jog_32\n",
            "Q: jog_22 & jog_32 X jog_25 & jog_07\n",
            "D: jog_18 & jog_19 X jog_20 & jog_04\n",
            "D: jog_18 & jog_20 X jog_19 & jog_04\n",
            "D: jog_18 & jog_04 X jog_19 & jog_20\n",
            "M: jog_11 & jog_14 X jog_17 & jog_04\n",
            "M: jog_11 & jog_17 X jog_14 & jog_04\n",
            "M: jog_11 & jog_04 X jog_14 & jog_17\n",
            "H: jog_30 & jog_31 X jog_32 & jog_08\n",
            "H: jog_30 & jog_32 X jog_31 & jog_08\n",
            "H: jog_30 & jog_08 X jog_31 & jog_32\n",
            "R: jog_23 & jog_26 X jog_29 & jog_08\n",
            "R: jog_23 & jog_29 X jog_26 & jog_08\n",
            "R: jog_23 & jog_08 X jog_26 & jog_29\n",
            "A: jog_01 & jog_09 0 X 0 jog_10 & jog_11, faltas: 0 X 0\n",
            "A: jog_01 & jog_10 0 X 0 jog_09 & jog_11, faltas: 0 X 0\n",
            "A: jog_01 & jog_11 0 X 0 jog_09 & jog_10, faltas: 0 X 0\n",
            "J: jog_01 & jog_12 0 X 0 jog_15 & jog_18, faltas: 0 X 0\n",
            "J: jog_01 & jog_15 0 X 0 jog_12 & jog_18, faltas: 0 X 0\n",
            "J: jog_01 & jog_18 0 X 0 jog_12 & jog_15, faltas: 0 X 0\n",
            "E: jog_05 & jog_21 0 X 0 jog_22 & jog_23, faltas: 0 X 0\n",
            "E: jog_05 & jog_22 0 X 0 jog_21 & jog_23, faltas: 0 X 0\n",
            "E: jog_05 & jog_23 0 X 0 jog_21 & jog_22, faltas: 0 X 0\n",
            "N: jog_05 & jog_24 0 X 0 jog_27 & jog_30, faltas: 0 X 0\n",
            "N: jog_05 & jog_27 0 X 0 jog_24 & jog_30, faltas: 0 X 0\n",
            "N: jog_05 & jog_30 0 X 0 jog_24 & jog_27, faltas: 0 X 0\n",
            "B: jog_12 & jog_02 8 X 18 jog_13 & jog_14, faltas: 3 X 1\n",
            "B: jog_12 & jog_13 0 X 0 jog_02 & jog_14, faltas: 0 X 0\n",
            "B: jog_12 & jog_14 0 X 0 jog_02 & jog_13, faltas: 0 X 0\n",
            "K: jog_09 & jog_02 0 X 0 jog_16 & jog_19, faltas: 0 X 0\n",
            "K: jog_09 & jog_16 0 X 0 jog_02 & jog_19, faltas: 0 X 0\n",
            "K: jog_09 & jog_19 0 X 0 jog_02 & jog_16, faltas: 0 X 0\n",
            "F: jog_24 & jog_06 5 X 8 jog_25 & jog_26, faltas: 6 X 3\n",
            "F: jog_24 & jog_25 0 X 0 jog_06 & jog_26, faltas: 0 X 0\n",
            "F: jog_24 & jog_26 7 X 9 jog_06 & jog_25, faltas: 1 X 1\n",
            "P: jog_21 & jog_06 0 X 0 jog_28 & jog_31, faltas: 0 X 0\n",
            "P: jog_21 & jog_28 0 X 0 jog_06 & jog_31, faltas: 0 X 0\n",
            "P: jog_21 & jog_31 0 X 0 jog_06 & jog_28, faltas: 0 X 0\n",
            "C: jog_15 & jog_16 0 X 0 jog_03 & jog_17, faltas: 0 X 0\n",
            "C: jog_15 & jog_03 0 X 0 jog_16 & jog_17, faltas: 0 X 0\n",
            "C: jog_15 & jog_17 0 X 0 jog_16 & jog_03, faltas: 0 X 0\n",
            "L: jog_10 & jog_13 0 X 0 jog_03 & jog_20, faltas: 0 X 0\n",
            "L: jog_10 & jog_03 0 X 0 jog_13 & jog_20, faltas: 0 X 0\n",
            "L: jog_10 & jog_20 0 X 0 jog_13 & jog_03, faltas: 0 X 0\n",
            "G: jog_27 & jog_28 0 X 0 jog_07 & jog_29, faltas: 0 X 0\n",
            "G: jog_27 & jog_07 0 X 0 jog_28 & jog_29, faltas: 0 X 0\n",
            "G: jog_27 & jog_29 0 X 0 jog_28 & jog_07, faltas: 0 X 0\n",
            "Q: jog_22 & jog_25 0 X 0 jog_07 & jog_32, faltas: 0 X 0\n",
            "Q: jog_22 & jog_07 0 X 0 jog_25 & jog_32, faltas: 0 X 0\n",
            "Q: jog_22 & jog_32 0 X 0 jog_25 & jog_07, faltas: 0 X 0\n",
            "D: jog_18 & jog_19 0 X 0 jog_20 & jog_04, faltas: 0 X 0\n",
            "D: jog_18 & jog_20 0 X 0 jog_19 & jog_04, faltas: 0 X 0\n",
            "D: jog_18 & jog_04 11 X 8 jog_19 & jog_20, faltas: 6 X 3\n",
            "M: jog_11 & jog_14 0 X 0 jog_17 & jog_04, faltas: 0 X 0\n",
            "M: jog_11 & jog_17 0 X 0 jog_14 & jog_04, faltas: 0 X 0\n",
            "M: jog_11 & jog_04 0 X 0 jog_14 & jog_17, faltas: 0 X 0\n",
            "H: jog_30 & jog_31 0 X 0 jog_32 & jog_08, faltas: 0 X 0\n",
            "H: jog_30 & jog_32 0 X 0 jog_31 & jog_08, faltas: 0 X 0\n",
            "H: jog_30 & jog_08 0 X 0 jog_31 & jog_32, faltas: 0 X 0\n",
            "R: jog_23 & jog_26 0 X 0 jog_29 & jog_08, faltas: 0 X 0\n",
            "R: jog_23 & jog_29 4 X 11 jog_26 & jog_08, faltas: 1 X 3\n",
            "R: jog_23 & jog_08 0 X 0 jog_26 & jog_29, faltas: 0 X 0\n"
          ]
        }
      ]
    }
  ]
}