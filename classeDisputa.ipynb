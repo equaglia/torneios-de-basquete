{
  "nbformat": 4,
  "nbformat_minor": 0,
  "metadata": {
    "colab": {
      "name": "classeDisputa.ipynb",
      "provenance": [],
      "collapsed_sections": [],
      "toc_visible": true,
      "authorship_tag": "ABX9TyM2ZqyIrnBUS0sH6LVdyjRI",
      "include_colab_link": true
    },
    "kernelspec": {
      "name": "python3",
      "display_name": "Python 3"
    },
    "language_info": {
      "name": "python"
    }
  },
  "cells": [
    {
      "cell_type": "markdown",
      "metadata": {
        "id": "view-in-github",
        "colab_type": "text"
      },
      "source": [
        "<a href=\"https://colab.research.google.com/github/equaglia/torneios-de-basquete/blob/main/classeDisputa.ipynb\" target=\"_parent\"><img src=\"https://colab.research.google.com/assets/colab-badge.svg\" alt=\"Open In Colab\"/></a>"
      ]
    },
    {
      "cell_type": "markdown",
      "metadata": {
        "id": "C6r8Jb-XuY08"
      },
      "source": [
        "# Dados"
      ]
    },
    {
      "cell_type": "code",
      "metadata": {
        "colab": {
          "base_uri": "https://localhost:8080/",
          "height": 173
        },
        "id": "xzY4c97Tzzeo",
        "outputId": "5dac9a10-c8d0-43da-cc18-289aab03282b"
      },
      "source": [
        "import numpy as np\n",
        "\n",
        "a = np.array([[\"jog_01\",\"jog_09\",\"jog_10\",\"jog_11\"],\n",
        "              [\"jog_12\",\"jog_02\",\"jog_13\",\"jog_14\"],\n",
        "              [\"jog_15\",\"jog_16\",\"jog_03\",\"jog_17\"],\n",
        "              [\"jog_18\",\"jog_19\",\"jog_20\",\"jog_04\"]]) \n",
        "b = np.array([[\"jog_05\",\"jog_21\",\"jog_22\",\"jog_23\"],\n",
        "              [\"jog_24\",\"jog_06\",\"jog_25\",\"jog_26\"],\n",
        "              [\"jog_27\",\"jog_28\",\"jog_07\",\"jog_29\"],\n",
        "              [\"jog_30\",\"jog_31\",\"jog_32\",\"jog_08\"]])\n",
        "\n",
        "# a = np.array([[1,9,10,11],[12,2,13,14],[15,16,3,17],[18,19,20,4]]) \n",
        "# b = np.array([[5,21,22,23],[24,6,25,26],[27,28,7,29],[30,31,32,8]])\n",
        "\n",
        "hor = np.array([[\"A\", \"B\", \"C\", \"D\"],\n",
        "                [\"E\", \"F\", \"G\", \"H\"]])\n",
        "ver = np.array([[\"J\", \"K\", \"L\", \"M\"],\n",
        "                [\"N\", \"P\", \"Q\", \"R\"]])\n",
        "display(hor)\n",
        "display(ver)\n",
        "display(hor.size)\n",
        "a"
      ],
      "execution_count": 1,
      "outputs": [
        {
          "output_type": "display_data",
          "data": {
            "text/plain": [
              "array([['A', 'B', 'C', 'D'],\n",
              "       ['E', 'F', 'G', 'H']], dtype='<U1')"
            ]
          },
          "metadata": {}
        },
        {
          "output_type": "display_data",
          "data": {
            "text/plain": [
              "array([['J', 'K', 'L', 'M'],\n",
              "       ['N', 'P', 'Q', 'R']], dtype='<U1')"
            ]
          },
          "metadata": {}
        },
        {
          "output_type": "display_data",
          "data": {
            "text/plain": [
              "8"
            ]
          },
          "metadata": {}
        },
        {
          "output_type": "execute_result",
          "data": {
            "text/plain": [
              "array([['jog_01', 'jog_09', 'jog_10', 'jog_11'],\n",
              "       ['jog_12', 'jog_02', 'jog_13', 'jog_14'],\n",
              "       ['jog_15', 'jog_16', 'jog_03', 'jog_17'],\n",
              "       ['jog_18', 'jog_19', 'jog_20', 'jog_04']], dtype='<U6')"
            ]
          },
          "metadata": {},
          "execution_count": 1
        }
      ]
    },
    {
      "cell_type": "code",
      "metadata": {
        "colab": {
          "base_uri": "https://localhost:8080/",
          "height": 243
        },
        "id": "ctKD9jcUD9dN",
        "outputId": "fdf02a22-ac3f-4707-f529-6d4dec761f67"
      },
      "source": [
        "a3 = np.array([[\"CC_01\",\"jog_09\",\"jog_10\",\"jog_11\", \"j_21\", \"CC_12\"],\n",
        "              # [\"jog_12\",\"CC_02\",\"jog_13\",\"jog_14\", \"CC_11\", \"j_32\"],\n",
        "              [\"Murillo Castanho\",\t\"Walter Azul\",\t\"Felipe Verde\",\t\"Rodrigo Marrom\",\t\"Gabriel Branco\",\t\"Henrique Magenta\"],\n",
        "              [\"jog_15\",\"jog_16\",\"CC_03\",\"CC_10\", \"j_41\", \"j_42\"],\n",
        "              [\"jog_18\",\"jog_19\",\"CC_09\",\"CC_04\", \"j_51\", \"j_52\"],\n",
        "              [\"jog_28\",\"CC_08\",\"jog_30\",\"jog_31\", \"CC_05\", \"j_62\"],\n",
        "              [\"CC_07\",\"jog_39\",\"jog_40\",\"jog_41\", \"j_42\", \"CC_06\"]]) \n",
        "b3 = np.array([[\"jog_05\",\"jog_21\",\"jog_22\",\"jog_23\"],\n",
        "              [\"jog_24\",\"jog_06\",\"jog_25\",\"jog_26\"],\n",
        "              [\"jog_27\",\"jog_28\",\"jog_07\",\"jog_29\"],\n",
        "              [\"jog_30\",\"jog_31\",\"jog_32\",\"jog_08\"]])\n",
        "\n",
        "hor3 = np.array([[\"A\", \"B\", \"C\", \"D\", \"N\", \"P\"],\n",
        "                [\"E\", \"F\", \"G\", \"H\", \"L\", \"M\"]])\n",
        "ver3 = np.array([[\"J\", \"K\", \"L\", \"M\", \"Q\", \"R\"],\n",
        "                [\"N\", \"P\", \"Q\", \"R\", \"S\", \"T\"]])\n",
        "display(hor3)\n",
        "display(ver3)\n",
        "display(hor3.size)\n",
        "a3"
      ],
      "execution_count": 14,
      "outputs": [
        {
          "output_type": "display_data",
          "data": {
            "text/plain": [
              "array([['A', 'B', 'C', 'D', 'N', 'P'],\n",
              "       ['E', 'F', 'G', 'H', 'L', 'M']], dtype='<U1')"
            ]
          },
          "metadata": {}
        },
        {
          "output_type": "display_data",
          "data": {
            "text/plain": [
              "array([['J', 'K', 'L', 'M', 'Q', 'R'],\n",
              "       ['N', 'P', 'Q', 'R', 'S', 'T']], dtype='<U1')"
            ]
          },
          "metadata": {}
        },
        {
          "output_type": "display_data",
          "data": {
            "text/plain": [
              "12"
            ]
          },
          "metadata": {}
        },
        {
          "output_type": "execute_result",
          "data": {
            "text/plain": [
              "array([['CC_01', 'jog_09', 'jog_10', 'jog_11', 'j_21', 'CC_12'],\n",
              "       ['Murillo Castanho', 'Walter Azul', 'Felipe Verde',\n",
              "        'Rodrigo Marrom', 'Gabriel Branco', 'Henrique Magenta'],\n",
              "       ['jog_15', 'jog_16', 'CC_03', 'CC_10', 'j_41', 'j_42'],\n",
              "       ['jog_18', 'jog_19', 'CC_09', 'CC_04', 'j_51', 'j_52'],\n",
              "       ['jog_28', 'CC_08', 'jog_30', 'jog_31', 'CC_05', 'j_62'],\n",
              "       ['CC_07', 'jog_39', 'jog_40', 'jog_41', 'j_42', 'CC_06']],\n",
              "      dtype='<U16')"
            ]
          },
          "metadata": {},
          "execution_count": 14
        }
      ]
    },
    {
      "cell_type": "markdown",
      "metadata": {
        "id": "tJDsf0hfumQg"
      },
      "source": [
        "# Classes"
      ]
    },
    {
      "cell_type": "code",
      "metadata": {
        "id": "XrMYEdn7kD-p"
      },
      "source": [
        "class Grupo:\n",
        "  def __init__(self, nome, jogadores):\n",
        "    self.nome = nome\n",
        "    self.jogadores = jogadores\n",
        "    self.partidas = []\n",
        "  \n",
        "  def __str__(self):\n",
        "    for i in self.partidas:\n",
        "      print(i)\n",
        "    return \"\"\n"
      ],
      "execution_count": 3,
      "outputs": []
    },
    {
      "cell_type": "code",
      "metadata": {
        "id": "QRfdzaNWt6-f"
      },
      "source": [
        "# Grupo 2x2 - para jogar todos contra todos no grupo 2x2, são necessárias 3 partidas\n",
        "class Grupo2x2(Grupo):\n",
        "  def __init__(self, grupo, jogador):\n",
        "    super().__init__(grupo, jogador)\n",
        "    self.partidas = [\n",
        "                  Partida2x2(grupo, [jogador[0],jogador[1]], [jogador[2], jogador[3]]),\n",
        "                  Partida2x2(grupo, [jogador[0],jogador[2]], [jogador[1], jogador[3]]),\n",
        "                  Partida2x2(grupo, [jogador[0],jogador[3]], [jogador[1], jogador[2]])\n",
        "    ]\n"
      ],
      "execution_count": 4,
      "outputs": []
    },
    {
      "cell_type": "code",
      "metadata": {
        "id": "4tIzx-kzYIg5"
      },
      "source": [
        "# Grupo 3x3 - para jogar todos contra todos no grupo 3x3, são necessárias 20 partidas \n",
        "# (C(6,3) = 6!/(3!.3!) = 20), o que é muito. Então, são eleitos 2 cabeças de chave, \n",
        "# que são sempre adversários, diminuindo para 6 partidas. \n",
        "# Obs. Em uma matriz 6x6, os elementos das 2 diagonais são os cabeças de chave.\n",
        "\n",
        "class Grupo3x3_6P(Grupo):\n",
        "  def __init__(self, grupo, jogador):\n",
        "    # jogadores das pontas (jogador[0] e jogador[5]) são os cabeças de chave e são sempre adversários\n",
        "    super().__init__(grupo, jogador)\n",
        "    self.partidas = [\n",
        "                  Partida3x3(grupo, [jogador[0],jogador[1], jogador[2]], [jogador[3], jogador[4], jogador[5]]),\n",
        "                  Partida3x3(grupo, [jogador[0],jogador[1], jogador[3]], [jogador[2], jogador[4], jogador[5]]),\n",
        "                  Partida3x3(grupo, [jogador[0],jogador[1], jogador[4]], [jogador[2], jogador[3], jogador[5]]),\n",
        "                  Partida3x3(grupo, [jogador[0],jogador[2], jogador[3]], [jogador[1], jogador[4], jogador[5]]),\n",
        "                  Partida3x3(grupo, [jogador[0],jogador[2], jogador[4]], [jogador[1], jogador[3], jogador[5]]),\n",
        "                  Partida3x3(grupo, [jogador[0],jogador[3], jogador[4]], [jogador[1], jogador[2], jogador[5]])\n",
        "    ]\n"
      ],
      "execution_count": 5,
      "outputs": []
    },
    {
      "cell_type": "code",
      "metadata": {
        "id": "fdbuoahGbAbp"
      },
      "source": [
        "class Partida:\n",
        "  def __init__(self, grupo, jogadoresA, jogadoresB):\n",
        "    self.grupo = grupo\n",
        "    self.times = [Time(jogadoresA), Time(jogadoresB)]\n",
        "\n",
        "  def registraPlacar(self, placarA, placarB):\n",
        "    self.times[0].pontos = placarA\n",
        "    self.times[1].pontos = placarB\n",
        "\n",
        "  def registrarFalta(self, faltaA, faltaB):\n",
        "    self.times[0].faltas = faltaA\n",
        "    self.times[1].faltas = faltaB\n"
      ],
      "execution_count": 6,
      "outputs": []
    },
    {
      "cell_type": "code",
      "metadata": {
        "id": "jFClkO2XkbJs"
      },
      "source": [
        "class Time:\n",
        "  def __init__(self, jogador):\n",
        "    self.jogador = jogador\n",
        "    self.pontos = 0\n",
        "    self.faltas = 0\n"
      ],
      "execution_count": 7,
      "outputs": []
    },
    {
      "cell_type": "code",
      "metadata": {
        "id": "efku3Ezjmsv_"
      },
      "source": [
        "class Partida2x2(Partida):\n",
        "  def __init__(self, grupo, jogadoresA, jogadoresB):\n",
        "    super().__init__(grupo, jogadoresA, jogadoresB)\n",
        "\n",
        "  def __str__(self):\n",
        "    return f'{self.grupo}: {self.times[0].jogador[0]} & {self.times[0].jogador[1]} X {self.times[1].jogador[0]} & {self.times[1].jogador[1]}'\n",
        "\n",
        "  def printPlacar(self):\n",
        "    print(\"{}: {} & {} {} X {} {} & {}, faltas: {} X {}\"\n",
        "    .format(self.grupo, self.times[0].jogador[0], self.times[0].jogador[1], self.times[0].pontos, \n",
        "            self.times[1].pontos, self.times[1].jogador[0], self.times[1].jogador[1], \n",
        "            self.times[0].faltas, self.times[1].faltas))\n"
      ],
      "execution_count": 8,
      "outputs": []
    },
    {
      "cell_type": "code",
      "metadata": {
        "id": "-UIvQ39yizsB"
      },
      "source": [
        "class Partida3x3(Partida):\n",
        "  def __init__(self, grupo, jogadoresA, jogadoresB):\n",
        "    super().__init__(grupo, jogadoresA, jogadoresB)\n",
        "\n",
        "  def __str__(self):\n",
        "    return f'{self.grupo}: {self.times[0].jogador[0]} & {self.times[0].jogador[1]} & {self.times[0].jogador[2]} X {self.times[1].jogador[0]} & {self.times[1].jogador[1]} & {self.times[1].jogador[2]}'\n",
        "\n",
        "  def printPlacar(self):\n",
        "    print(\"{}: {} & {} & {} {} X {} {} & {} & {}, faltas: {} X {}\"\n",
        "    .format(self.grupo, self.times[0].jogador[0], self.times[0].jogador[1], self.times[0].jogador[2], self.times[0].pontos, \n",
        "            self.times[1].pontos, self.times[1].jogador[0], self.times[1].jogador[1], self.times[1].jogador[2], \n",
        "            self.times[0].faltas, self.times[1].faltas))\n",
        "\n"
      ],
      "execution_count": 9,
      "outputs": []
    },
    {
      "cell_type": "markdown",
      "metadata": {
        "id": "lO9xevNiuxYM"
      },
      "source": [
        "# Execução"
      ]
    },
    {
      "cell_type": "code",
      "metadata": {
        "colab": {
          "base_uri": "https://localhost:8080/"
        },
        "id": "x_CFbB9mzZyI",
        "outputId": "12330f19-fa28-48f9-b6bb-2bbf9627ed13"
      },
      "source": [
        "grupos = []\n",
        "for i in range(0, hor[0].size):\n",
        "  disps = Grupo2x2(hor[0][i], a[i])\n",
        "  grupos = grupos + disps.partidas\n",
        "  # print(disps)\n",
        "  disps = Grupo2x2(ver[0][i], a.transpose()[i])\n",
        "  grupos = grupos + disps.partidas\n",
        "  # print(disps)\n",
        "  disps = Grupo2x2(hor[1][i], b[i])\n",
        "  grupos = grupos + disps.partidas\n",
        "  # print(disps)\n",
        "  disps = Grupo2x2(ver[1][i], b.transpose()[i])\n",
        "  grupos = grupos + disps.partidas\n",
        "  # print(disps)\n",
        "\n",
        "import random\n",
        "\n",
        "for i in range(0, 5):\n",
        "  disp = grupos[random.randint(0, len(grupos))]\n",
        "  disp.registraPlacar(10+random.randint(-10, 10), 10+random.randint(-10, 10))\n",
        "  disp.registrarFalta(3+random.randint(-3, 3), 3+random.randint(-3, 3))\n",
        "  # print(disp)\n",
        "  disp.printPlacar()"
      ],
      "execution_count": 10,
      "outputs": [
        {
          "output_type": "stream",
          "name": "stdout",
          "text": [
            "A: jog_01 & jog_10 5 X 1 jog_09 & jog_11, faltas: 0 X 2\n",
            "R: jog_23 & jog_08 7 X 8 jog_26 & jog_29, faltas: 2 X 5\n",
            "G: jog_27 & jog_07 12 X 16 jog_28 & jog_29, faltas: 1 X 2\n",
            "Q: jog_22 & jog_25 1 X 4 jog_07 & jog_32, faltas: 3 X 0\n",
            "R: jog_23 & jog_29 9 X 16 jog_26 & jog_08, faltas: 0 X 2\n"
          ]
        }
      ]
    },
    {
      "cell_type": "code",
      "metadata": {
        "colab": {
          "base_uri": "https://localhost:8080/"
        },
        "id": "d18fq_GqWWIj",
        "outputId": "9ab3e3da-629b-4855-8a8e-30365a31b421"
      },
      "source": [
        " for i in grupos:\n",
        "   print(i)\n",
        "#  for i in grupos:\n",
        "#    i.printPlacar()"
      ],
      "execution_count": 11,
      "outputs": [
        {
          "output_type": "stream",
          "name": "stdout",
          "text": [
            "A: jog_01 & jog_09 X jog_10 & jog_11\n",
            "A: jog_01 & jog_10 X jog_09 & jog_11\n",
            "A: jog_01 & jog_11 X jog_09 & jog_10\n",
            "J: jog_01 & jog_12 X jog_15 & jog_18\n",
            "J: jog_01 & jog_15 X jog_12 & jog_18\n",
            "J: jog_01 & jog_18 X jog_12 & jog_15\n",
            "E: jog_05 & jog_21 X jog_22 & jog_23\n",
            "E: jog_05 & jog_22 X jog_21 & jog_23\n",
            "E: jog_05 & jog_23 X jog_21 & jog_22\n",
            "N: jog_05 & jog_24 X jog_27 & jog_30\n",
            "N: jog_05 & jog_27 X jog_24 & jog_30\n",
            "N: jog_05 & jog_30 X jog_24 & jog_27\n",
            "B: jog_12 & jog_02 X jog_13 & jog_14\n",
            "B: jog_12 & jog_13 X jog_02 & jog_14\n",
            "B: jog_12 & jog_14 X jog_02 & jog_13\n",
            "K: jog_09 & jog_02 X jog_16 & jog_19\n",
            "K: jog_09 & jog_16 X jog_02 & jog_19\n",
            "K: jog_09 & jog_19 X jog_02 & jog_16\n",
            "F: jog_24 & jog_06 X jog_25 & jog_26\n",
            "F: jog_24 & jog_25 X jog_06 & jog_26\n",
            "F: jog_24 & jog_26 X jog_06 & jog_25\n",
            "P: jog_21 & jog_06 X jog_28 & jog_31\n",
            "P: jog_21 & jog_28 X jog_06 & jog_31\n",
            "P: jog_21 & jog_31 X jog_06 & jog_28\n",
            "C: jog_15 & jog_16 X jog_03 & jog_17\n",
            "C: jog_15 & jog_03 X jog_16 & jog_17\n",
            "C: jog_15 & jog_17 X jog_16 & jog_03\n",
            "L: jog_10 & jog_13 X jog_03 & jog_20\n",
            "L: jog_10 & jog_03 X jog_13 & jog_20\n",
            "L: jog_10 & jog_20 X jog_13 & jog_03\n",
            "G: jog_27 & jog_28 X jog_07 & jog_29\n",
            "G: jog_27 & jog_07 X jog_28 & jog_29\n",
            "G: jog_27 & jog_29 X jog_28 & jog_07\n",
            "Q: jog_22 & jog_25 X jog_07 & jog_32\n",
            "Q: jog_22 & jog_07 X jog_25 & jog_32\n",
            "Q: jog_22 & jog_32 X jog_25 & jog_07\n",
            "D: jog_18 & jog_19 X jog_20 & jog_04\n",
            "D: jog_18 & jog_20 X jog_19 & jog_04\n",
            "D: jog_18 & jog_04 X jog_19 & jog_20\n",
            "M: jog_11 & jog_14 X jog_17 & jog_04\n",
            "M: jog_11 & jog_17 X jog_14 & jog_04\n",
            "M: jog_11 & jog_04 X jog_14 & jog_17\n",
            "H: jog_30 & jog_31 X jog_32 & jog_08\n",
            "H: jog_30 & jog_32 X jog_31 & jog_08\n",
            "H: jog_30 & jog_08 X jog_31 & jog_32\n",
            "R: jog_23 & jog_26 X jog_29 & jog_08\n",
            "R: jog_23 & jog_29 X jog_26 & jog_08\n",
            "R: jog_23 & jog_08 X jog_26 & jog_29\n"
          ]
        }
      ]
    },
    {
      "cell_type": "code",
      "metadata": {
        "colab": {
          "base_uri": "https://localhost:8080/"
        },
        "id": "aszUn4LFGxLE",
        "outputId": "a092e19b-2538-4f48-de68-c5ac14e0401a"
      },
      "source": [
        "grupos = []\n",
        "for i in range(0, hor3[0].size):\n",
        "  disps = Grupo3x3_6P(hor3[0][i], a3[i])\n",
        "  grupos = grupos + disps.partidas\n",
        "  # print(disps)\n",
        "  disps = Grupo3x3_6P(ver3[0][i], a3.transpose()[i])\n",
        "  grupos = grupos + disps.partidas\n",
        "  # print(disps)\n",
        "  # disps = Grupo3x3_6P(hor3[1][i], b3[i])\n",
        "  # grupos = grupos + disps.partidas\n",
        "  # # print(disps)\n",
        "  # disps = Grupo3x3_6P(ver3[1][i], b3.transpose()[i])\n",
        "  # grupos = grupos + disps.partidas\n",
        "  # # print(disps)\n",
        "\n",
        "import random\n",
        "\n",
        "for i in range(0, 5):\n",
        "  disp = grupos[random.randint(0, len(grupos))]\n",
        "  disp.registraPlacar(10+random.randint(-10, 10), 10+random.randint(-10, 10))\n",
        "  disp.registrarFalta(3+random.randint(-3, 3), 3+random.randint(-3, 3))\n",
        "  # print(disp)\n",
        "  disp.printPlacar()"
      ],
      "execution_count": 15,
      "outputs": [
        {
          "output_type": "stream",
          "name": "stdout",
          "text": [
            "J: CC_01 & Murillo Castanho & jog_18 17 X 14 jog_15 & jog_28 & CC_07, faltas: 3 X 0\n",
            "J: CC_01 & Murillo Castanho & jog_28 6 X 9 jog_15 & jog_18 & CC_07, faltas: 5 X 3\n",
            "J: CC_01 & Murillo Castanho & jog_18 1 X 13 jog_15 & jog_28 & CC_07, faltas: 1 X 1\n",
            "K: jog_09 & jog_16 & jog_19 12 X 8 Walter Azul & CC_08 & jog_39, faltas: 3 X 4\n",
            "L: jog_10 & Felipe Verde & CC_09 12 X 2 CC_03 & jog_30 & jog_40, faltas: 3 X 3\n"
          ]
        }
      ]
    },
    {
      "cell_type": "code",
      "metadata": {
        "colab": {
          "base_uri": "https://localhost:8080/"
        },
        "id": "SrfYvIC0I3IV",
        "outputId": "8b297144-e16e-4ce2-e10b-31a6dfd09e9b"
      },
      "source": [
        " for i in grupos:\n",
        "   print(i)\n",
        " for i in grupos:\n",
        "   i.printPlacar()"
      ],
      "execution_count": 17,
      "outputs": [
        {
          "output_type": "stream",
          "name": "stdout",
          "text": [
            "A: CC_01 & jog_09 & jog_10 X jog_11 & j_21 & CC_12\n",
            "A: CC_01 & jog_09 & jog_11 X jog_10 & j_21 & CC_12\n",
            "A: CC_01 & jog_09 & j_21 X jog_10 & jog_11 & CC_12\n",
            "A: CC_01 & jog_10 & jog_11 X jog_09 & j_21 & CC_12\n",
            "A: CC_01 & jog_10 & j_21 X jog_09 & jog_11 & CC_12\n",
            "A: CC_01 & jog_11 & j_21 X jog_09 & jog_10 & CC_12\n",
            "J: CC_01 & Murillo Castanho & jog_15 X jog_18 & jog_28 & CC_07\n",
            "J: CC_01 & Murillo Castanho & jog_18 X jog_15 & jog_28 & CC_07\n",
            "J: CC_01 & Murillo Castanho & jog_28 X jog_15 & jog_18 & CC_07\n",
            "J: CC_01 & jog_15 & jog_18 X Murillo Castanho & jog_28 & CC_07\n",
            "J: CC_01 & jog_15 & jog_28 X Murillo Castanho & jog_18 & CC_07\n",
            "J: CC_01 & jog_18 & jog_28 X Murillo Castanho & jog_15 & CC_07\n",
            "B: Murillo Castanho & Walter Azul & Felipe Verde X Rodrigo Marrom & Gabriel Branco & Henrique Magenta\n",
            "B: Murillo Castanho & Walter Azul & Rodrigo Marrom X Felipe Verde & Gabriel Branco & Henrique Magenta\n",
            "B: Murillo Castanho & Walter Azul & Gabriel Branco X Felipe Verde & Rodrigo Marrom & Henrique Magenta\n",
            "B: Murillo Castanho & Felipe Verde & Rodrigo Marrom X Walter Azul & Gabriel Branco & Henrique Magenta\n",
            "B: Murillo Castanho & Felipe Verde & Gabriel Branco X Walter Azul & Rodrigo Marrom & Henrique Magenta\n",
            "B: Murillo Castanho & Rodrigo Marrom & Gabriel Branco X Walter Azul & Felipe Verde & Henrique Magenta\n",
            "K: jog_09 & Walter Azul & jog_16 X jog_19 & CC_08 & jog_39\n",
            "K: jog_09 & Walter Azul & jog_19 X jog_16 & CC_08 & jog_39\n",
            "K: jog_09 & Walter Azul & CC_08 X jog_16 & jog_19 & jog_39\n",
            "K: jog_09 & jog_16 & jog_19 X Walter Azul & CC_08 & jog_39\n",
            "K: jog_09 & jog_16 & CC_08 X Walter Azul & jog_19 & jog_39\n",
            "K: jog_09 & jog_19 & CC_08 X Walter Azul & jog_16 & jog_39\n",
            "C: jog_15 & jog_16 & CC_03 X CC_10 & j_41 & j_42\n",
            "C: jog_15 & jog_16 & CC_10 X CC_03 & j_41 & j_42\n",
            "C: jog_15 & jog_16 & j_41 X CC_03 & CC_10 & j_42\n",
            "C: jog_15 & CC_03 & CC_10 X jog_16 & j_41 & j_42\n",
            "C: jog_15 & CC_03 & j_41 X jog_16 & CC_10 & j_42\n",
            "C: jog_15 & CC_10 & j_41 X jog_16 & CC_03 & j_42\n",
            "L: jog_10 & Felipe Verde & CC_03 X CC_09 & jog_30 & jog_40\n",
            "L: jog_10 & Felipe Verde & CC_09 X CC_03 & jog_30 & jog_40\n",
            "L: jog_10 & Felipe Verde & jog_30 X CC_03 & CC_09 & jog_40\n",
            "L: jog_10 & CC_03 & CC_09 X Felipe Verde & jog_30 & jog_40\n",
            "L: jog_10 & CC_03 & jog_30 X Felipe Verde & CC_09 & jog_40\n",
            "L: jog_10 & CC_09 & jog_30 X Felipe Verde & CC_03 & jog_40\n",
            "D: jog_18 & jog_19 & CC_09 X CC_04 & j_51 & j_52\n",
            "D: jog_18 & jog_19 & CC_04 X CC_09 & j_51 & j_52\n",
            "D: jog_18 & jog_19 & j_51 X CC_09 & CC_04 & j_52\n",
            "D: jog_18 & CC_09 & CC_04 X jog_19 & j_51 & j_52\n",
            "D: jog_18 & CC_09 & j_51 X jog_19 & CC_04 & j_52\n",
            "D: jog_18 & CC_04 & j_51 X jog_19 & CC_09 & j_52\n",
            "M: jog_11 & Rodrigo Marrom & CC_10 X CC_04 & jog_31 & jog_41\n",
            "M: jog_11 & Rodrigo Marrom & CC_04 X CC_10 & jog_31 & jog_41\n",
            "M: jog_11 & Rodrigo Marrom & jog_31 X CC_10 & CC_04 & jog_41\n",
            "M: jog_11 & CC_10 & CC_04 X Rodrigo Marrom & jog_31 & jog_41\n",
            "M: jog_11 & CC_10 & jog_31 X Rodrigo Marrom & CC_04 & jog_41\n",
            "M: jog_11 & CC_04 & jog_31 X Rodrigo Marrom & CC_10 & jog_41\n",
            "N: jog_28 & CC_08 & jog_30 X jog_31 & CC_05 & j_62\n",
            "N: jog_28 & CC_08 & jog_31 X jog_30 & CC_05 & j_62\n",
            "N: jog_28 & CC_08 & CC_05 X jog_30 & jog_31 & j_62\n",
            "N: jog_28 & jog_30 & jog_31 X CC_08 & CC_05 & j_62\n",
            "N: jog_28 & jog_30 & CC_05 X CC_08 & jog_31 & j_62\n",
            "N: jog_28 & jog_31 & CC_05 X CC_08 & jog_30 & j_62\n",
            "Q: j_21 & Gabriel Branco & j_41 X j_51 & CC_05 & j_42\n",
            "Q: j_21 & Gabriel Branco & j_51 X j_41 & CC_05 & j_42\n",
            "Q: j_21 & Gabriel Branco & CC_05 X j_41 & j_51 & j_42\n",
            "Q: j_21 & j_41 & j_51 X Gabriel Branco & CC_05 & j_42\n",
            "Q: j_21 & j_41 & CC_05 X Gabriel Branco & j_51 & j_42\n",
            "Q: j_21 & j_51 & CC_05 X Gabriel Branco & j_41 & j_42\n",
            "P: CC_07 & jog_39 & jog_40 X jog_41 & j_42 & CC_06\n",
            "P: CC_07 & jog_39 & jog_41 X jog_40 & j_42 & CC_06\n",
            "P: CC_07 & jog_39 & j_42 X jog_40 & jog_41 & CC_06\n",
            "P: CC_07 & jog_40 & jog_41 X jog_39 & j_42 & CC_06\n",
            "P: CC_07 & jog_40 & j_42 X jog_39 & jog_41 & CC_06\n",
            "P: CC_07 & jog_41 & j_42 X jog_39 & jog_40 & CC_06\n",
            "R: CC_12 & Henrique Magenta & j_42 X j_52 & j_62 & CC_06\n",
            "R: CC_12 & Henrique Magenta & j_52 X j_42 & j_62 & CC_06\n",
            "R: CC_12 & Henrique Magenta & j_62 X j_42 & j_52 & CC_06\n",
            "R: CC_12 & j_42 & j_52 X Henrique Magenta & j_62 & CC_06\n",
            "R: CC_12 & j_42 & j_62 X Henrique Magenta & j_52 & CC_06\n",
            "R: CC_12 & j_52 & j_62 X Henrique Magenta & j_42 & CC_06\n",
            "A: CC_01 & jog_09 & jog_10 0 X 0 jog_11 & j_21 & CC_12, faltas: 0 X 0\n",
            "A: CC_01 & jog_09 & jog_11 0 X 0 jog_10 & j_21 & CC_12, faltas: 0 X 0\n",
            "A: CC_01 & jog_09 & j_21 0 X 0 jog_10 & jog_11 & CC_12, faltas: 0 X 0\n",
            "A: CC_01 & jog_10 & jog_11 0 X 0 jog_09 & j_21 & CC_12, faltas: 0 X 0\n",
            "A: CC_01 & jog_10 & j_21 0 X 0 jog_09 & jog_11 & CC_12, faltas: 0 X 0\n",
            "A: CC_01 & jog_11 & j_21 0 X 0 jog_09 & jog_10 & CC_12, faltas: 0 X 0\n",
            "J: CC_01 & Murillo Castanho & jog_15 0 X 0 jog_18 & jog_28 & CC_07, faltas: 0 X 0\n",
            "J: CC_01 & Murillo Castanho & jog_18 1 X 13 jog_15 & jog_28 & CC_07, faltas: 1 X 1\n",
            "J: CC_01 & Murillo Castanho & jog_28 6 X 9 jog_15 & jog_18 & CC_07, faltas: 5 X 3\n",
            "J: CC_01 & jog_15 & jog_18 0 X 0 Murillo Castanho & jog_28 & CC_07, faltas: 0 X 0\n",
            "J: CC_01 & jog_15 & jog_28 0 X 0 Murillo Castanho & jog_18 & CC_07, faltas: 0 X 0\n",
            "J: CC_01 & jog_18 & jog_28 0 X 0 Murillo Castanho & jog_15 & CC_07, faltas: 0 X 0\n",
            "B: Murillo Castanho & Walter Azul & Felipe Verde 0 X 0 Rodrigo Marrom & Gabriel Branco & Henrique Magenta, faltas: 0 X 0\n",
            "B: Murillo Castanho & Walter Azul & Rodrigo Marrom 0 X 0 Felipe Verde & Gabriel Branco & Henrique Magenta, faltas: 0 X 0\n",
            "B: Murillo Castanho & Walter Azul & Gabriel Branco 0 X 0 Felipe Verde & Rodrigo Marrom & Henrique Magenta, faltas: 0 X 0\n",
            "B: Murillo Castanho & Felipe Verde & Rodrigo Marrom 0 X 0 Walter Azul & Gabriel Branco & Henrique Magenta, faltas: 0 X 0\n",
            "B: Murillo Castanho & Felipe Verde & Gabriel Branco 0 X 0 Walter Azul & Rodrigo Marrom & Henrique Magenta, faltas: 0 X 0\n",
            "B: Murillo Castanho & Rodrigo Marrom & Gabriel Branco 0 X 0 Walter Azul & Felipe Verde & Henrique Magenta, faltas: 0 X 0\n",
            "K: jog_09 & Walter Azul & jog_16 0 X 0 jog_19 & CC_08 & jog_39, faltas: 0 X 0\n",
            "K: jog_09 & Walter Azul & jog_19 0 X 0 jog_16 & CC_08 & jog_39, faltas: 0 X 0\n",
            "K: jog_09 & Walter Azul & CC_08 0 X 0 jog_16 & jog_19 & jog_39, faltas: 0 X 0\n",
            "K: jog_09 & jog_16 & jog_19 12 X 8 Walter Azul & CC_08 & jog_39, faltas: 3 X 4\n",
            "K: jog_09 & jog_16 & CC_08 0 X 0 Walter Azul & jog_19 & jog_39, faltas: 0 X 0\n",
            "K: jog_09 & jog_19 & CC_08 0 X 0 Walter Azul & jog_16 & jog_39, faltas: 0 X 0\n",
            "C: jog_15 & jog_16 & CC_03 0 X 0 CC_10 & j_41 & j_42, faltas: 0 X 0\n",
            "C: jog_15 & jog_16 & CC_10 0 X 0 CC_03 & j_41 & j_42, faltas: 0 X 0\n",
            "C: jog_15 & jog_16 & j_41 0 X 0 CC_03 & CC_10 & j_42, faltas: 0 X 0\n",
            "C: jog_15 & CC_03 & CC_10 0 X 0 jog_16 & j_41 & j_42, faltas: 0 X 0\n",
            "C: jog_15 & CC_03 & j_41 0 X 0 jog_16 & CC_10 & j_42, faltas: 0 X 0\n",
            "C: jog_15 & CC_10 & j_41 0 X 0 jog_16 & CC_03 & j_42, faltas: 0 X 0\n",
            "L: jog_10 & Felipe Verde & CC_03 0 X 0 CC_09 & jog_30 & jog_40, faltas: 0 X 0\n",
            "L: jog_10 & Felipe Verde & CC_09 12 X 2 CC_03 & jog_30 & jog_40, faltas: 3 X 3\n",
            "L: jog_10 & Felipe Verde & jog_30 0 X 0 CC_03 & CC_09 & jog_40, faltas: 0 X 0\n",
            "L: jog_10 & CC_03 & CC_09 0 X 0 Felipe Verde & jog_30 & jog_40, faltas: 0 X 0\n",
            "L: jog_10 & CC_03 & jog_30 0 X 0 Felipe Verde & CC_09 & jog_40, faltas: 0 X 0\n",
            "L: jog_10 & CC_09 & jog_30 0 X 0 Felipe Verde & CC_03 & jog_40, faltas: 0 X 0\n",
            "D: jog_18 & jog_19 & CC_09 0 X 0 CC_04 & j_51 & j_52, faltas: 0 X 0\n",
            "D: jog_18 & jog_19 & CC_04 0 X 0 CC_09 & j_51 & j_52, faltas: 0 X 0\n",
            "D: jog_18 & jog_19 & j_51 0 X 0 CC_09 & CC_04 & j_52, faltas: 0 X 0\n",
            "D: jog_18 & CC_09 & CC_04 0 X 0 jog_19 & j_51 & j_52, faltas: 0 X 0\n",
            "D: jog_18 & CC_09 & j_51 0 X 0 jog_19 & CC_04 & j_52, faltas: 0 X 0\n",
            "D: jog_18 & CC_04 & j_51 0 X 0 jog_19 & CC_09 & j_52, faltas: 0 X 0\n",
            "M: jog_11 & Rodrigo Marrom & CC_10 0 X 0 CC_04 & jog_31 & jog_41, faltas: 0 X 0\n",
            "M: jog_11 & Rodrigo Marrom & CC_04 0 X 0 CC_10 & jog_31 & jog_41, faltas: 0 X 0\n",
            "M: jog_11 & Rodrigo Marrom & jog_31 0 X 0 CC_10 & CC_04 & jog_41, faltas: 0 X 0\n",
            "M: jog_11 & CC_10 & CC_04 0 X 0 Rodrigo Marrom & jog_31 & jog_41, faltas: 0 X 0\n",
            "M: jog_11 & CC_10 & jog_31 0 X 0 Rodrigo Marrom & CC_04 & jog_41, faltas: 0 X 0\n",
            "M: jog_11 & CC_04 & jog_31 0 X 0 Rodrigo Marrom & CC_10 & jog_41, faltas: 0 X 0\n",
            "N: jog_28 & CC_08 & jog_30 0 X 0 jog_31 & CC_05 & j_62, faltas: 0 X 0\n",
            "N: jog_28 & CC_08 & jog_31 0 X 0 jog_30 & CC_05 & j_62, faltas: 0 X 0\n",
            "N: jog_28 & CC_08 & CC_05 0 X 0 jog_30 & jog_31 & j_62, faltas: 0 X 0\n",
            "N: jog_28 & jog_30 & jog_31 0 X 0 CC_08 & CC_05 & j_62, faltas: 0 X 0\n",
            "N: jog_28 & jog_30 & CC_05 0 X 0 CC_08 & jog_31 & j_62, faltas: 0 X 0\n",
            "N: jog_28 & jog_31 & CC_05 0 X 0 CC_08 & jog_30 & j_62, faltas: 0 X 0\n",
            "Q: j_21 & Gabriel Branco & j_41 0 X 0 j_51 & CC_05 & j_42, faltas: 0 X 0\n",
            "Q: j_21 & Gabriel Branco & j_51 0 X 0 j_41 & CC_05 & j_42, faltas: 0 X 0\n",
            "Q: j_21 & Gabriel Branco & CC_05 0 X 0 j_41 & j_51 & j_42, faltas: 0 X 0\n",
            "Q: j_21 & j_41 & j_51 0 X 0 Gabriel Branco & CC_05 & j_42, faltas: 0 X 0\n",
            "Q: j_21 & j_41 & CC_05 0 X 0 Gabriel Branco & j_51 & j_42, faltas: 0 X 0\n",
            "Q: j_21 & j_51 & CC_05 0 X 0 Gabriel Branco & j_41 & j_42, faltas: 0 X 0\n",
            "P: CC_07 & jog_39 & jog_40 0 X 0 jog_41 & j_42 & CC_06, faltas: 0 X 0\n",
            "P: CC_07 & jog_39 & jog_41 0 X 0 jog_40 & j_42 & CC_06, faltas: 0 X 0\n",
            "P: CC_07 & jog_39 & j_42 0 X 0 jog_40 & jog_41 & CC_06, faltas: 0 X 0\n",
            "P: CC_07 & jog_40 & jog_41 0 X 0 jog_39 & j_42 & CC_06, faltas: 0 X 0\n",
            "P: CC_07 & jog_40 & j_42 0 X 0 jog_39 & jog_41 & CC_06, faltas: 0 X 0\n",
            "P: CC_07 & jog_41 & j_42 0 X 0 jog_39 & jog_40 & CC_06, faltas: 0 X 0\n",
            "R: CC_12 & Henrique Magenta & j_42 0 X 0 j_52 & j_62 & CC_06, faltas: 0 X 0\n",
            "R: CC_12 & Henrique Magenta & j_52 0 X 0 j_42 & j_62 & CC_06, faltas: 0 X 0\n",
            "R: CC_12 & Henrique Magenta & j_62 0 X 0 j_42 & j_52 & CC_06, faltas: 0 X 0\n",
            "R: CC_12 & j_42 & j_52 0 X 0 Henrique Magenta & j_62 & CC_06, faltas: 0 X 0\n",
            "R: CC_12 & j_42 & j_62 0 X 0 Henrique Magenta & j_52 & CC_06, faltas: 0 X 0\n",
            "R: CC_12 & j_52 & j_62 0 X 0 Henrique Magenta & j_42 & CC_06, faltas: 0 X 0\n"
          ]
        }
      ]
    }
  ]
}